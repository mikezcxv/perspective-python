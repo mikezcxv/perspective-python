{
 "cells": [
  {
   "cell_type": "code",
   "execution_count": 13,
   "metadata": {},
   "outputs": [],
   "source": [
    "import ujson\n",
    "from perspective import psp"
   ]
  },
  {
   "cell_type": "code",
   "execution_count": 18,
   "metadata": {},
   "outputs": [],
   "source": [
    "ws = 'wss://ws-feed.gdax.com'\n",
    "subscribe = ujson.dumps({\n",
    "    \"type\": \"subscribe\",\n",
    "    \"channels\": [{\"name\": \"heartbeat\", \"product_ids\": [\"ETH-USD\"]},\n",
    "                 {\"name\": \"ticker\", \"product_ids\": [\"ETH-USD\"]}]\n",
    "})"
   ]
  },
  {
   "cell_type": "code",
   "execution_count": 19,
   "metadata": {},
   "outputs": [
    {
     "data": {
      "application/psp+json": {
       "config": "{\"send\":\"\\\"{\\\\\\\"type\\\\\\\":\\\\\\\"subscribe\\\\\\\",\\\\\\\"channels\\\\\\\":[{\\\\\\\"name\\\\\\\":\\\\\\\"heartbeat\\\\\\\",\\\\\\\"product_ids\\\\\\\":[\\\\\\\"ETH-USD\\\\\\\"]},{\\\\\\\"name\\\\\\\":\\\\\\\"ticker\\\\\\\",\\\\\\\"product_ids\\\\\\\":[\\\\\\\"ETH-USD\\\\\\\"]}]}\\\"\",\"records\":true}",
       "data": "wss://ws-feed.gdax.com",
       "layout": "{\"view\":\"hypergrid\",\"columns\":\"\",\"row-pivots\":\"\",\"column-pivots\":\"\",\"aggregates\":\"\",\"sort\":\"\",\"settings\":false}"
      }
     },
     "metadata": {},
     "output_type": "display_data"
    }
   ],
   "source": [
    "psp(ws, helper_config={'send':subscribe, 'records':True})\n",
    "# psp(ws)"
   ]
  },
  {
   "cell_type": "code",
   "execution_count": 14,
   "metadata": {},
   "outputs": [],
   "source": [
    "sio = 'sio://https://coincap.io'\n",
    "channel = 'trades'"
   ]
  },
  {
   "cell_type": "code",
   "execution_count": 15,
   "metadata": {},
   "outputs": [
    {
     "data": {
      "application/psp+json": {
       "config": "{\"channel\":\"trades\",\"records\":true}",
       "data": "sio://https://coincap.io",
       "layout": "{\"view\":\"y_bar\",\"columns\":[\"mktcap\",\"price\",\"vwapData\",\"supply\",\"volume\",\"perc\",\"shapeshift\"],\"row-pivots\":[\"long\"],\"column-pivots\":\"\",\"aggregates\":\"\",\"sort\":[\"mktcap\"],\"settings\":false}"
      }
     },
     "metadata": {},
     "output_type": "display_data"
    }
   ],
   "source": [
    "psp(sio, 'y_bar', [\"mktcap\",\"price\",\"vwapData\",\"supply\",\"volume\",\"perc\",\"shapeshift\"], rowpivots='long', sort='mktcap', helper_config={'channel':channel, 'records':True})"
   ]
  },
  {
   "cell_type": "code",
   "execution_count": 16,
   "metadata": {},
   "outputs": [],
   "source": [
    "ctb = 'https://jpmorganchase.github.io/perspective/examples/citibike.json'\n",
    "field = 'stationBeanList'"
   ]
  },
  {
   "cell_type": "code",
   "execution_count": 17,
   "metadata": {},
   "outputs": [
    {
     "data": {
      "application/psp+json": {
       "config": "{\"field\":\"stationBeanList\",\"records\":false,\"repeat\":5000}",
       "data": "https://jpmorganchase.github.io/perspective/examples/citibike.json",
       "layout": "{\"view\":\"xy_scatter\",\"columns\":[\"longitude\",\"latitude\",\"availableBikes\"],\"row-pivots\":\"\",\"column-pivots\":\"\",\"aggregates\":\"\",\"sort\":\"\",\"settings\":false}"
      }
     },
     "metadata": {},
     "output_type": "display_data"
    }
   ],
   "source": [
    "psp(ctb, 'xy_scatter', [\"longitude\",\"latitude\",\"availableBikes\"], helper_config={'field':field, 'records':False, 'repeat':5000})"
   ]
  },
  {
   "cell_type": "code",
   "execution_count": null,
   "metadata": {},
   "outputs": [],
   "source": []
  },
  {
   "cell_type": "code",
   "execution_count": null,
   "metadata": {},
   "outputs": [],
   "source": []
  }
 ],
 "metadata": {
  "kernelspec": {
   "display_name": "Python 3",
   "language": "python",
   "name": "python3"
  },
  "language_info": {
   "codemirror_mode": {
    "name": "ipython",
    "version": 3
   },
   "file_extension": ".py",
   "mimetype": "text/x-python",
   "name": "python",
   "nbconvert_exporter": "python",
   "pygments_lexer": "ipython3",
   "version": "3.6.4"
  }
 },
 "nbformat": 4,
 "nbformat_minor": 2
}
