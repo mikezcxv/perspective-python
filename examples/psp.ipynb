{
 "cells": [
  {
   "cell_type": "code",
   "execution_count": 17,
   "metadata": {},
   "outputs": [],
   "source": [
    "import ujson\n",
    "import lantern as l"
   ]
  },
  {
   "cell_type": "code",
   "execution_count": 16,
   "metadata": {},
   "outputs": [],
   "source": [
    "df = l.bar.sample()"
   ]
  },
  {
   "cell_type": "code",
   "execution_count": 19,
   "metadata": {},
   "outputs": [],
   "source": [
    "def psp(data):\n",
    "    bundle = {}\n",
    "    bundle['application/psp'] = ujson.dumps(data)\n",
    "    display(bundle, raw=True)"
   ]
  },
  {
   "cell_type": "code",
   "execution_count": 23,
   "metadata": {},
   "outputs": [
    {
     "data": {
      "text/plain": [
       "'[{\"APP.KF\":0.9837492302,\"KBE.UH\":0.8653965632,\"TTA.VN\":1.0855114503,\"DYI.ZC\":-0.3095654136,\"UMG.BL\":0.4464330163},{\"APP.KF\":0.4841674898,\"KBE.UH\":0.5908261679,\"TTA.VN\":1.2361206228,\"DYI.ZC\":0.4997109125,\"UMG.BL\":1.0180604084},{\"APP.KF\":1.0593768609,\"KBE.UH\":-0.0359558202,\"TTA.VN\":2.8487129473,\"DYI.ZC\":2.1702227255,\"UMG.BL\":-0.9290575447},{\"APP.KF\":2.2997799093,\"KBE.UH\":1.5797930297,\"TTA.VN\":2.6214963322,\"DYI.ZC\":2.3760455173,\"UMG.BL\":-2.0740380616},{\"APP.KF\":3.3200326668,\"KBE.UH\":2.1394994549,\"TTA.VN\":2.4030860999,\"DYI.ZC\":2.9545843809,\"UMG.BL\":-3.5152472476},{\"APP.KF\":3.6577167482,\"KBE.UH\":0.6482621807,\"TTA.VN\":0.1324484794,\"DYI.ZC\":2.7285068636,\"UMG.BL\":-2.9529392906},{\"APP.KF\":3.686880925,\"KBE.UH\":2.1938429005,\"TTA.VN\":1.1048902879,\"DYI.ZC\":3.6615177069,\"UMG.BL\":-3.0653133801},{\"APP.KF\":1.1440592536,\"KBE.UH\":3.6426820529,\"TTA.VN\":-0.3539031612,\"DYI.ZC\":2.9252788452,\"UMG.BL\":-3.2522731883},{\"APP.KF\":-0.7609401495,\"KBE.UH\":3.5869408518,\"TTA.VN\":0.2054530599,\"DYI.ZC\":1.9109562344,\"UMG.BL\":-3.6470383985},{\"APP.KF\":-1.0110536479,\"KBE.UH\":4.185969625,\"TTA.VN\":-1.0109880015,\"DYI.ZC\":1.6976842506,\"UMG.BL\":-4.2700699445}]'"
      ]
     },
     "execution_count": 23,
     "metadata": {},
     "output_type": "execute_result"
    }
   ],
   "source": [
    "data = df.to_json(orient='records')\n",
    "data"
   ]
  },
  {
   "cell_type": "code",
   "execution_count": 24,
   "metadata": {},
   "outputs": [
    {
     "data": {
      "application/psp": "\"[{\\\"APP.KF\\\":0.9837492302,\\\"KBE.UH\\\":0.8653965632,\\\"TTA.VN\\\":1.0855114503,\\\"DYI.ZC\\\":-0.3095654136,\\\"UMG.BL\\\":0.4464330163},{\\\"APP.KF\\\":0.4841674898,\\\"KBE.UH\\\":0.5908261679,\\\"TTA.VN\\\":1.2361206228,\\\"DYI.ZC\\\":0.4997109125,\\\"UMG.BL\\\":1.0180604084},{\\\"APP.KF\\\":1.0593768609,\\\"KBE.UH\\\":-0.0359558202,\\\"TTA.VN\\\":2.8487129473,\\\"DYI.ZC\\\":2.1702227255,\\\"UMG.BL\\\":-0.9290575447},{\\\"APP.KF\\\":2.2997799093,\\\"KBE.UH\\\":1.5797930297,\\\"TTA.VN\\\":2.6214963322,\\\"DYI.ZC\\\":2.3760455173,\\\"UMG.BL\\\":-2.0740380616},{\\\"APP.KF\\\":3.3200326668,\\\"KBE.UH\\\":2.1394994549,\\\"TTA.VN\\\":2.4030860999,\\\"DYI.ZC\\\":2.9545843809,\\\"UMG.BL\\\":-3.5152472476},{\\\"APP.KF\\\":3.6577167482,\\\"KBE.UH\\\":0.6482621807,\\\"TTA.VN\\\":0.1324484794,\\\"DYI.ZC\\\":2.7285068636,\\\"UMG.BL\\\":-2.9529392906},{\\\"APP.KF\\\":3.686880925,\\\"KBE.UH\\\":2.1938429005,\\\"TTA.VN\\\":1.1048902879,\\\"DYI.ZC\\\":3.6615177069,\\\"UMG.BL\\\":-3.0653133801},{\\\"APP.KF\\\":1.1440592536,\\\"KBE.UH\\\":3.6426820529,\\\"TTA.VN\\\":-0.3539031612,\\\"DYI.ZC\\\":2.9252788452,\\\"UMG.BL\\\":-3.2522731883},{\\\"APP.KF\\\":-0.7609401495,\\\"KBE.UH\\\":3.5869408518,\\\"TTA.VN\\\":0.2054530599,\\\"DYI.ZC\\\":1.9109562344,\\\"UMG.BL\\\":-3.6470383985},{\\\"APP.KF\\\":-1.0110536479,\\\"KBE.UH\\\":4.185969625,\\\"TTA.VN\\\":-1.0109880015,\\\"DYI.ZC\\\":1.6976842506,\\\"UMG.BL\\\":-4.2700699445}]\""
     },
     "metadata": {},
     "output_type": "display_data"
    }
   ],
   "source": [
    "psp(data)"
   ]
  },
  {
   "cell_type": "code",
   "execution_count": null,
   "metadata": {},
   "outputs": [],
   "source": []
  }
 ],
 "metadata": {
  "kernelspec": {
   "display_name": "Python 3",
   "language": "python",
   "name": "python3"
  },
  "language_info": {
   "codemirror_mode": {
    "name": "ipython",
    "version": 3
   },
   "file_extension": ".py",
   "mimetype": "text/x-python",
   "name": "python",
   "nbconvert_exporter": "python",
   "pygments_lexer": "ipython3",
   "version": "3.6.3"
  }
 },
 "nbformat": 4,
 "nbformat_minor": 2
}
